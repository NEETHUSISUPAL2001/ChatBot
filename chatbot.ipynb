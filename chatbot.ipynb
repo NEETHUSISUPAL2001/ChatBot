{
 "cells": [
  {
   "cell_type": "code",
   "execution_count": 3,
   "id": "fffca995-4b1c-4a15-8aac-0d98e278a3ec",
   "metadata": {},
   "outputs": [
    {
     "name": "stdout",
     "output_type": "stream",
     "text": [
      "Caption: a pink flower in a garden\n"
     ]
    }
   ],
   "source": [
    "from transformers import BlipProcessor, BlipForConditionalGeneration\n",
    "from PIL import Image\n",
    "\n",
    "# Load model and processor\n",
    "processor = BlipProcessor.from_pretrained(\"Salesforce/blip-image-captioning-base\")\n",
    "model = BlipForConditionalGeneration.from_pretrained(\"Salesforce/blip-image-captioning-base\")\n",
    "\n",
    "def generate_caption(image_path):\n",
    "    image = Image.open(image_path).convert(\"RGB\")  # Open image\n",
    "    inputs = processor(images=image, return_tensors=\"pt\")  # Process image\n",
    "    caption_ids = model.generate(**inputs)  # Generate caption\n",
    "    return processor.decode(caption_ids[0], skip_special_tokens=True)  # Decode caption\n",
    "\n",
    "# Example usage\n",
    "image_path = \"images.jpg\"  # Replace with your image path\n",
    "print(\"Caption:\", generate_caption(image_path))\n"
   ]
  },
  {
   "cell_type": "code",
   "execution_count": null,
   "id": "b28bcc8a-3590-4d86-8510-eac3562330b6",
   "metadata": {},
   "outputs": [
    {
     "name": "stdout",
     "output_type": "stream",
     "text": [
      "🤖 Bot is running...\n"
     ]
    }
   ],
   "source": [
    "import os\n",
    "import torch\n",
    "import asyncio\n",
    "import nest_asyncio\n",
    "from PIL import Image\n",
    "from transformers import BlipProcessor, BlipForConditionalGeneration\n",
    "from telegram import Update\n",
    "from telegram.ext import Application, CommandHandler, MessageHandler, filters, CallbackContext\n",
    "\n",
    "# Apply asyncio fix (for Jupyter Notebook or nested loops)\n",
    "nest_asyncio.apply()\n",
    "\n",
    "# Load the BLIP model and processor\n",
    "processor = BlipProcessor.from_pretrained(\"Salesforce/blip-image-captioning-base\")\n",
    "model = BlipForConditionalGeneration.from_pretrained(\"Salesforce/blip-image-captioning-base\")\n",
    "\n",
    "# Telegram Bot Token (Replace with your actual token)\n",
    "BOT_TOKEN = \"7796800065:AAHFzZ_7lKNA2Ks1PmuG9_TEwJhB_sNc0IE\"\n",
    "\n",
    "# Start Command\n",
    "async def start(update: Update, context: CallbackContext) -> None:\n",
    "    await update.message.reply_text(\"Hello! Send me an image, and I'll generate a caption for you.\")\n",
    "\n",
    "# Handle Image Messages\n",
    "async def handle_image(update: Update, context: CallbackContext) -> None:\n",
    "    photo = update.message.photo[-1]  # Get the highest resolution photo\n",
    "    file = await context.bot.get_file(photo.file_id)\n",
    "    \n",
    "    # Download the image\n",
    "    image_path = \"received_image.jpg\"\n",
    "    await file.download_to_drive(image_path)\n",
    "    \n",
    "    # Load and process the image\n",
    "    raw_image = Image.open(image_path).convert(\"RGB\")\n",
    "    inputs = processor(raw_image, return_tensors=\"pt\")\n",
    "    \n",
    "    # Generate caption\n",
    "    with torch.no_grad():\n",
    "        caption_ids = model.generate(**inputs)\n",
    "    caption = processor.batch_decode(caption_ids, skip_special_tokens=True)[0]\n",
    "    \n",
    "    # Send the caption\n",
    "    await update.message.reply_text(f\"🖼 Caption: {caption}\")\n",
    "\n",
    "# Main function to set up the bot\n",
    "def main():\n",
    "    app = Application.builder().token(BOT_TOKEN).build()\n",
    "    \n",
    "    # Add handlers\n",
    "    app.add_handler(CommandHandler(\"start\", start))\n",
    "    app.add_handler(MessageHandler(filters.PHOTO, handle_image))\n",
    "    \n",
    "    print(\"🤖 Bot is running...\")\n",
    "    app.run_polling()\n",
    "\n",
    "# Run the bot\n",
    "if __name__ == \"__main__\":\n",
    "    main()\n"
   ]
  },
  {
   "cell_type": "code",
   "execution_count": null,
   "id": "8f0d5ca2-0714-4a17-be43-1a319c37b11f",
   "metadata": {},
   "outputs": [],
   "source": []
  }
 ],
 "metadata": {
  "kernelspec": {
   "display_name": "Python 3 (ipykernel)",
   "language": "python",
   "name": "python3"
  },
  "language_info": {
   "codemirror_mode": {
    "name": "ipython",
    "version": 3
   },
   "file_extension": ".py",
   "mimetype": "text/x-python",
   "name": "python",
   "nbconvert_exporter": "python",
   "pygments_lexer": "ipython3",
   "version": "3.11.7"
  }
 },
 "nbformat": 4,
 "nbformat_minor": 5
}
